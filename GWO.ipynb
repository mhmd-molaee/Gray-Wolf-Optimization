{
 "cells": [
  {
   "cell_type": "code",
   "execution_count": 1,
   "metadata": {},
   "outputs": [],
   "source": [
    "import numpy as np\n",
    "from cecfunction import F1, F3, F5, F6, F8\n",
    "import time\n"
   ]
  },
  {
   "cell_type": "code",
   "execution_count": 2,
   "metadata": {},
   "outputs": [],
   "source": [
    "POPULATION_SIZE = 15\n",
    "MAX_ITERATION = 500\n",
    "a = 2"
   ]
  },
  {
   "cell_type": "code",
   "execution_count": 3,
   "metadata": {},
   "outputs": [],
   "source": [
    "functions = {\n",
    "    \"F1\": [F1, -100, 100, 30],\n",
    "    \"F3\": [F3, -100, 100, 30],\n",
    "    \"F5\": [F5, -30, 30, 30],\n",
    "    \"F6\": [F6, -100, 100, 30],\n",
    "    \"F8\": [F8, -500, 500, 30]\n",
    "}"
   ]
  },
  {
   "cell_type": "code",
   "execution_count": 4,
   "metadata": {},
   "outputs": [],
   "source": [
    "obejctive_function = functions['F1']"
   ]
  },
  {
   "cell_type": "markdown",
   "metadata": {},
   "source": [
    "### Fitness Function"
   ]
  },
  {
   "cell_type": "code",
   "execution_count": 5,
   "metadata": {},
   "outputs": [],
   "source": [
    "def fitness_function(wolf: np.ndarray):\n",
    "    return obejctive_function[0](wolf)"
   ]
  },
  {
   "cell_type": "markdown",
   "metadata": {},
   "source": [
    "### Update Wolf's Position"
   ]
  },
  {
   "cell_type": "code",
   "execution_count": 6,
   "metadata": {},
   "outputs": [],
   "source": [
    "def update_position(omega: np.ndarray, alpha: np.ndarray, beta: np.ndarray, gamma: np.ndarray):\n",
    "    A_alpha = 2 * a * np.random.random() - a\n",
    "    A_beta = 2 * a * np.random.random() - a\n",
    "    A_gamma = 2 * a * np.random.random() - a\n",
    "\n",
    "    C_alpha = 2 * np.random.random()\n",
    "    C_beta = 2 * np.random.random()\n",
    "    C_gamma = 2 * np.random.random()\n",
    "\n",
    "    D_alpha = np.abs(C_alpha * alpha - omega)\n",
    "    D_beta = np.abs(C_beta * beta - omega)\n",
    "    D_gamma = np.abs(C_gamma * gamma - omega)\n",
    "\n",
    "    X_1 = alpha - A_alpha * D_alpha\n",
    "    X_2 = beta - A_beta * D_beta\n",
    "    X_3 = gamma - A_gamma * D_gamma\n",
    "\n",
    "    return (X_1 + X_2 + X_3) / 3\n",
    "\n",
    "\n"
   ]
  },
  {
   "cell_type": "markdown",
   "metadata": {},
   "source": [
    "## GWO\n"
   ]
  },
  {
   "cell_type": "code",
   "execution_count": 7,
   "metadata": {},
   "outputs": [],
   "source": [
    "results = []\n",
    "st = time.time()\n",
    "for i in range(10):\n",
    "    population = (np.random.random(size=(POPULATION_SIZE, obejctive_function[3])) * (obejctive_function[2] - obejctive_function[1]) ) + obejctive_function[1]\n",
    "    a = 2\n",
    "    for _ in range(MAX_ITERATION):\n",
    "        fitnesses = np.array([fitness_function(wolf) for wolf in population])\n",
    "        leaders_idx = fitnesses.argsort()[:3]\n",
    "        alpha, beta, gamma = population[leaders_idx]\n",
    "        population = np.delete(population, leaders_idx, axis= 0)\n",
    "\n",
    "        population = np.array([update_position(wolf, alpha, beta, gamma) for wolf in population])\n",
    "        population = np.concatenate([population, [alpha, beta, gamma]], axis= 0)\n",
    "        population = population.clip(obejctive_function[1], obejctive_function[2])\n",
    "        a -= a / MAX_ITERATION\n",
    "    fitnesses = np.array([fitness_function(wolf) for wolf in population])\n",
    "    results.append(np.min(fitnesses))\n",
    "dur = time.time() - st"
   ]
  },
  {
   "cell_type": "code",
   "execution_count": 8,
   "metadata": {},
   "outputs": [
    {
     "name": "stdout",
     "output_type": "stream",
     "text": [
      "Mean:  4.259655025402584e-67\n",
      "Std:  7.215636621902145e-67\n",
      "Duration:  0.9160420894622803\n"
     ]
    }
   ],
   "source": [
    "print('Mean: ', np.mean(results))\n",
    "print('Std: ', np.std(results))\n",
    "print('Duration: ', dur)"
   ]
  },
  {
   "cell_type": "code",
   "execution_count": null,
   "metadata": {},
   "outputs": [],
   "source": []
  }
 ],
 "metadata": {
  "kernelspec": {
   "display_name": "uni_projects",
   "language": "python",
   "name": "python3"
  },
  "language_info": {
   "codemirror_mode": {
    "name": "ipython",
    "version": 3
   },
   "file_extension": ".py",
   "mimetype": "text/x-python",
   "name": "python",
   "nbconvert_exporter": "python",
   "pygments_lexer": "ipython3",
   "version": "3.12.0"
  }
 },
 "nbformat": 4,
 "nbformat_minor": 2
}
