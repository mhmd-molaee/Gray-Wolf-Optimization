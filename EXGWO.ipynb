{
 "cells": [
  {
   "cell_type": "code",
   "execution_count": 370,
   "metadata": {},
   "outputs": [],
   "source": [
    "import numpy as np\n",
    "from cecfunction import F1, F3, F5, F6, F8\n",
    "import time"
   ]
  },
  {
   "cell_type": "code",
   "execution_count": 371,
   "metadata": {},
   "outputs": [],
   "source": [
    "POPULATION_SIZE = 15\n",
    "MAX_ITERATION = 500\n",
    "a = 2"
   ]
  },
  {
   "cell_type": "code",
   "execution_count": 372,
   "metadata": {},
   "outputs": [],
   "source": [
    "functions = {\n",
    "    \"F1\": [F1, -100, 100, 30],\n",
    "    \"F3\": [F3, -100, 100, 30],\n",
    "    \"F5\": [F5, -30, 30, 30],\n",
    "    \"F6\": [F6, -100, 100, 30],\n",
    "    \"F8\": [F8, -500, 500, 30]\n",
    "}"
   ]
  },
  {
   "cell_type": "code",
   "execution_count": 373,
   "metadata": {},
   "outputs": [],
   "source": [
    "obejctive_function = functions['F8']\n"
   ]
  },
  {
   "cell_type": "code",
   "execution_count": 374,
   "metadata": {},
   "outputs": [],
   "source": [
    "def fitness_function(wolf: np.ndarray):\n",
    "    return obejctive_function[0](wolf)"
   ]
  },
  {
   "cell_type": "code",
   "execution_count": 375,
   "metadata": {},
   "outputs": [],
   "source": [
    "def update_position(omega: np.ndarray, alpha: np.ndarray, beta: np.ndarray, gamma: np.ndarray, a_update: float):\n",
    "\n",
    "    A_alpha = 2 * a_update * np.random.random() - a_update\n",
    "    A_beta = 2 * a_update * np.random.random() - a_update\n",
    "    A_gamma = 2 * a_update * np.random.random() - a_update\n",
    "\n",
    "    C_alpha = 2 * np.random.random()\n",
    "    C_beta = 2 * np.random.random()\n",
    "    C_gamma = 2 * np.random.random()\n",
    "\n",
    "    D_alpha = np.abs(C_alpha * alpha - omega)\n",
    "    D_beta = np.abs(C_beta * beta - omega)\n",
    "    D_gamma = np.abs(C_gamma * gamma - omega)\n",
    "\n",
    "    X_1 = alpha - A_alpha * D_alpha\n",
    "    X_2 = beta - A_beta * D_beta\n",
    "    X_3 = gamma - A_gamma * D_gamma\n",
    "\n",
    "    return (X_1 + X_2 + X_3) / 3\n"
   ]
  },
  {
   "cell_type": "code",
   "execution_count": 376,
   "metadata": {},
   "outputs": [],
   "source": [
    "results = []\n",
    "st = time.time()\n",
    "for _ in range(10):\n",
    "    population = (np.random.random(size=(POPULATION_SIZE, obejctive_function[3])) * (obejctive_function[2] - obejctive_function[1])) + obejctive_function[1]\n",
    "    for j in range(MAX_ITERATION):\n",
    "\n",
    "        a = 2 * (1 - j ** 2 / MAX_ITERATION ** 2)\n",
    "        disobeyment_size = int(np.round(POPULATION_SIZE * (1 - j ** 2 / MAX_ITERATION ** 2)))\n",
    "\n",
    "        fitnesses = np.array([fitness_function(wolf) for wolf in population])\n",
    "        sorted_args = fitnesses.argsort()\n",
    "        leaders_idx = sorted_args[:3]\n",
    "        alpha, beta, gamma = population[leaders_idx]\n",
    "        \n",
    "        population = population[sorted_args[3:]]\n",
    "        if (POPULATION_SIZE - disobeyment_size > 4):\n",
    "            obedient_population = np.array([update_position(wolf, alpha, beta, gamma, a) for wolf in population[:POPULATION_SIZE - disobeyment_size]])\n",
    "            disobedient_population = np.array([update_position(wolf, alpha, beta, gamma, 2) for wolf in population[POPULATION_SIZE - disobeyment_size:]])\n",
    "\n",
    "            if (len(disobedient_population) == 0):\n",
    "                population = obedient_population\n",
    "            else:\n",
    "                population = np.concatenate([obedient_population, disobedient_population])\n",
    "\n",
    "        else:\n",
    "            population =  np.array([update_position(wolf, alpha, beta, gamma, 2) for wolf in population])\n",
    "            \n",
    "        population = np.concatenate([population, [alpha, beta, gamma]], axis= 0)\n",
    "\n",
    "        population = population.clip(obejctive_function[1], obejctive_function[2])\n",
    "    fitnesses = np.array([fitness_function(wolf) for wolf in population])\n",
    "    results.append(np.min(fitnesses))\n",
    "dur = time.time() - st"
   ]
  },
  {
   "cell_type": "code",
   "execution_count": 377,
   "metadata": {},
   "outputs": [
    {
     "name": "stdout",
     "output_type": "stream",
     "text": [
      "Mean:  -10064.649771531102\n",
      "Std:  1926.7607566136508\n",
      "Duration:  1.1300487518310547\n"
     ]
    }
   ],
   "source": [
    "print('Mean: ', np.mean(results))\n",
    "print('Std: ', np.std(results))\n",
    "print('Duration: ', dur)\n"
   ]
  },
  {
   "cell_type": "code",
   "execution_count": null,
   "metadata": {},
   "outputs": [],
   "source": []
  }
 ],
 "metadata": {
  "kernelspec": {
   "display_name": "uni_projects",
   "language": "python",
   "name": "python3"
  },
  "language_info": {
   "codemirror_mode": {
    "name": "ipython",
    "version": 3
   },
   "file_extension": ".py",
   "mimetype": "text/x-python",
   "name": "python",
   "nbconvert_exporter": "python",
   "pygments_lexer": "ipython3",
   "version": "3.12.0"
  }
 },
 "nbformat": 4,
 "nbformat_minor": 2
}
